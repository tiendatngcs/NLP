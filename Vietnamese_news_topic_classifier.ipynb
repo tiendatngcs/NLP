{
  "nbformat": 4,
  "nbformat_minor": 0,
  "metadata": {
    "colab": {
      "name": "Vietnamese_news_topic_classifier.ipynb",
      "provenance": [],
      "collapsed_sections": [],
      "authorship_tag": "ABX9TyOmz+8xMOMRcwcmsZTk2xth",
      "include_colab_link": true
    },
    "kernelspec": {
      "name": "python3",
      "display_name": "Python 3"
    }
  },
  "cells": [
    {
      "cell_type": "markdown",
      "metadata": {
        "id": "view-in-github",
        "colab_type": "text"
      },
      "source": [
        "<a href=\"https://colab.research.google.com/github/tiendatngcs/NLP/blob/master/Vietnamese_news_topic_classifier.ipynb\" target=\"_parent\"><img src=\"https://colab.research.google.com/assets/colab-badge.svg\" alt=\"Open In Colab\"/></a>"
      ]
    },
    {
      "cell_type": "code",
      "metadata": {
        "id": "8lKoIh7Av8vu",
        "colab_type": "code",
        "colab": {}
      },
      "source": [
        "from bs4 import BeautifulSoup\n",
        "import requests"
      ],
      "execution_count": 2,
      "outputs": []
    },
    {
      "cell_type": "markdown",
      "metadata": {
        "id": "IbAQjttrwPD9",
        "colab_type": "text"
      },
      "source": [
        "## Gathering data"
      ]
    },
    {
      "cell_type": "markdown",
      "metadata": {
        "id": "_75QO7Gy0k3u",
        "colab_type": "text"
      },
      "source": [
        "We scrape the web with BeautifulSoup\n",
        "\n"
      ]
    },
    {
      "cell_type": "code",
      "metadata": {
        "id": "g-HibrEkwHpL",
        "colab_type": "code",
        "colab": {}
      },
      "source": [
        "url = 'https://vnexpress.net/hang-khong-hut-nguon-thu-cao-diem-he-4152498.html'"
      ],
      "execution_count": 3,
      "outputs": []
    },
    {
      "cell_type": "code",
      "metadata": {
        "id": "m1q4tZIFwiOV",
        "colab_type": "code",
        "colab": {}
      },
      "source": [
        "markup = requests.get(url).text\n",
        "soup = BeautifulSoup(markup=markup, features=\"lxml\")"
      ],
      "execution_count": 20,
      "outputs": []
    },
    {
      "cell_type": "code",
      "metadata": {
        "id": "iwXx2CUiwmDH",
        "colab_type": "code",
        "colab": {}
      },
      "source": [
        "text = [p.text for p in soup.find(name=\"section\", class_=\"section page-detail top-detail\").find(name=\"article\", class_=\"fck_detail \").find_all(\"p\", class_=\"Normal\")]"
      ],
      "execution_count": 30,
      "outputs": []
    },
    {
      "cell_type": "code",
      "metadata": {
        "id": "AzJrT6RbwqQw",
        "colab_type": "code",
        "colab": {
          "base_uri": "https://localhost:8080/",
          "height": 211
        },
        "outputId": "52fe2e0e-0597-43e2-d4d1-18e431e395d7"
      },
      "source": [
        "text"
      ],
      "execution_count": 31,
      "outputs": [
        {
          "output_type": "execute_result",
          "data": {
            "text/plain": [
              "['Sau khi dịch bệnh được kiểm soát hồi cuối tháng 4, hàng không Việt dần tăng khai thác trở lại các chặng nội địa từ tháng 5. Tiếp đà phục hồi nhanh chóng, các hãng rất kỳ vọng sẽ bù đắp được dòng tiền nhờ cao điểm hè từ tháng 7 đến tháng 9. Tuy nhiên, làn sóng dịch thứ hai bùng phát từ cuối tháng 7 đã chuyển giai đoạn cao điểm thành thấp điểm.',\n",
              " 'Theo thống kê của Cục Hàng không giai đoạn 19/7 – 18/8, tổng số chuyến bay của 5 hãng trong nước chỉ còn hơn 16.400, giảm 33% so với tháng trước và 45% so với cùng kỳ năm ngoái. Trong đó, Vietnam Airlines bị giảm hơn 4.300 chuyến, tương đương giảm gần 40% so với tháng 7, còn khoảng 6.700 chuyến. Vietjet Air khai thác hơn 5.700 chuyến, giảm 31%, tương đương trên 2.600 chuyến bay.',\n",
              " 'Tổng số chuyến của các hãng Bamboo Airways, Pacific Airways, VASCO giảm lần lượt giảm 17%, 15% và 43% so với giai đoạn tháng 7. Các hãng bay đã hủy 490 chuyến, tăng 325 chuyến so với tháng trước đó. Các hãng gần đây của cũng phải giảm tần suất hoặc dừng khai thác một số tuyến ít khách như đi/ đến khu vực Tây Nguyên.',\n",
              " 'Nhu cầu đi lại giảm cũng kéo mặt bằng giá vé nội địa tụt mạnh. Ghi nhận sáng 26/8, một cặp vé khứ hồi chặng Hà Nội – TP HCM bay cuối tháng 9 có giá từ 1,2 triệu đồng, giảm 2 – 3 lần so với đầu tháng 7. Các chặng bay từ Hà Nội đến nhũng địa điểm du lịch như Nha Trang, Phú Quốc... cũng có giá vé khứ hồi tương đương. Trong khi đó, thời điểm nhu cầu du lịch của người dân tăng cao hồi cuối tháng 6, đầu tháng 7, các hành trình này có giá từ 3 đến 5 triệu đồng.',\n",
              " 'Tổng giám đốc Vietnam Airlines dự báo, tổng thị trường nội địa 5 tháng cuối năm có thể chỉ còn 70% so với cùng kỳ năm ngoái. Cả năm 2020, tổng thị trường thấp hơn 30-40%, giá vé cũng giảm 30%.',\n",
              " 'Hiện tại, các hãng bay phải đua bán vé Tết sớm so với mọi năm để kéo nguồn thu ngay từ giữa tháng 8. Đến tuần này, các hãng lại liên tục tung ưu đãi vé Tết giá rẻ như Vietjet chỉ từ 2.021 đồng một chặng (chưa gồm thuế, phí), tương tự Bamboo Airways cũng tung vé từ 99.000 đồng. Liên danh Liên danh Vietnam Airlines - Pacific Airlines mở bán vé từ 509.000 một chiều (đã gồm thuế, phí).',\n",
              " 'Hiệp hội Hàng không Việt Nam mới đây đã kiến nghị Thủ tướng có giải pháp mạnh để hỗ trợ ngành khi các hãng đều rơi vào cảnh suy kiệt dòng tiền nghiêm trọng.',\n",
              " 'Một trong số các đề xuất là cho các hãng bay được vay gói tín dụng trị giá 25.000 – 27.000 tỷ đồng có hỗ trợ lãi suất trong 3-4 năm, miễn giảm phí dịch vụ hàng không đến hết năm sau. Đồng thời, đơn vị này cũng kiến nghị cho phép mở lại đường bay quốc tế với những nước đã kiểm soát được dịch dịch Covid-19...',\n",
              " 'Hiệp hội Vận tải hàng không quốc tế dự báo ngành hàng không phải đến năm 2024 mới quay được về mức như năm 2019, trong đó các hãng bay Việt có thể thiệt hại 4 tỷ USD, khoảng hơn 90.000 tỷ năm nay.',\n",
              " 'Anh Tú']"
            ]
          },
          "metadata": {
            "tags": []
          },
          "execution_count": 31
        }
      ]
    },
    {
      "cell_type": "code",
      "metadata": {
        "id": "BiCMU45BzMfk",
        "colab_type": "code",
        "colab": {}
      },
      "source": [
        ""
      ],
      "execution_count": null,
      "outputs": []
    }
  ]
}