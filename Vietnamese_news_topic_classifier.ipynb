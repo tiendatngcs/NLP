{
  "nbformat": 4,
  "nbformat_minor": 0,
  "metadata": {
    "colab": {
      "name": "Vietnamese_news_topic_classifier.ipynb",
      "provenance": [],
      "collapsed_sections": [],
      "toc_visible": true,
      "mount_file_id": "1gC6t34z1HGecP_gVMrp7wAVMJRPdDL72",
      "authorship_tag": "ABX9TyPZQ8fq8YmBumBRQOVFpBBA",
      "include_colab_link": true
    },
    "kernelspec": {
      "name": "python3",
      "display_name": "Python 3"
    }
  },
  "cells": [
    {
      "cell_type": "markdown",
      "metadata": {
        "id": "view-in-github",
        "colab_type": "text"
      },
      "source": [
        "<a href=\"https://colab.research.google.com/github/tiendatngcs/NLP/blob/master/Vietnamese_news_topic_classifier.ipynb\" target=\"_parent\"><img src=\"https://colab.research.google.com/assets/colab-badge.svg\" alt=\"Open In Colab\"/></a>"
      ]
    },
    {
      "cell_type": "code",
      "metadata": {
        "id": "8lKoIh7Av8vu",
        "colab_type": "code",
        "colab": {}
      },
      "source": [
        "from bs4 import BeautifulSoup\n",
        "import requests\n",
        "import pickle as pkl\n",
        "import tqdm"
      ],
      "execution_count": 37,
      "outputs": []
    },
    {
      "cell_type": "markdown",
      "metadata": {
        "id": "IbAQjttrwPD9",
        "colab_type": "text"
      },
      "source": [
        "## Gathering data"
      ]
    },
    {
      "cell_type": "markdown",
      "metadata": {
        "id": "_75QO7Gy0k3u",
        "colab_type": "text"
      },
      "source": [
        "We scrape the web with BeautifulSoup\n",
        "\n"
      ]
    },
    {
      "cell_type": "markdown",
      "metadata": {
        "id": "gkLQdBUz_uQ5",
        "colab_type": "text"
      },
      "source": [
        "Prototype:"
      ]
    },
    {
      "cell_type": "code",
      "metadata": {
        "id": "g-HibrEkwHpL",
        "colab_type": "code",
        "colab": {}
      },
      "source": [
        "url = 'https://vnexpress.net/hang-khong-hut-nguon-thu-cao-diem-he-4152498.html'"
      ],
      "execution_count": 38,
      "outputs": []
    },
    {
      "cell_type": "code",
      "metadata": {
        "id": "m1q4tZIFwiOV",
        "colab_type": "code",
        "colab": {}
      },
      "source": [
        "markup = requests.get(url).text\n",
        "soup = BeautifulSoup(markup=markup, features=\"lxml\")"
      ],
      "execution_count": 39,
      "outputs": []
    },
    {
      "cell_type": "code",
      "metadata": {
        "id": "iwXx2CUiwmDH",
        "colab_type": "code",
        "colab": {}
      },
      "source": [
        "text = [p.text for p in soup.find(name=\"section\", class_=\"section page-detail top-detail\").find(name=\"article\", class_=\"fck_detail \").find_all(\"p\", class_=\"Normal\")]"
      ],
      "execution_count": 40,
      "outputs": []
    },
    {
      "cell_type": "code",
      "metadata": {
        "id": "AzJrT6RbwqQw",
        "colab_type": "code",
        "colab": {
          "base_uri": "https://localhost:8080/",
          "height": 211
        },
        "outputId": "ba081391-eeea-4406-e6d1-65ee0d4733f5"
      },
      "source": [
        "text"
      ],
      "execution_count": 41,
      "outputs": [
        {
          "output_type": "execute_result",
          "data": {
            "text/plain": [
              "['Sau khi dịch bệnh được kiểm soát hồi cuối tháng 4, hàng không Việt dần tăng khai thác trở lại các chặng nội địa từ tháng 5. Tiếp đà phục hồi nhanh chóng, các hãng rất kỳ vọng sẽ bù đắp được dòng tiền nhờ cao điểm hè từ tháng 7 đến tháng 9. Tuy nhiên, làn sóng dịch thứ hai bùng phát từ cuối tháng 7 đã chuyển giai đoạn cao điểm thành thấp điểm.',\n",
              " 'Theo thống kê của Cục Hàng không giai đoạn 19/7 – 18/8, tổng số chuyến bay của 5 hãng trong nước chỉ còn hơn 16.400, giảm 33% so với tháng trước và 45% so với cùng kỳ năm ngoái. Trong đó, Vietnam Airlines bị giảm hơn 4.300 chuyến, tương đương giảm gần 40% so với tháng 7, còn khoảng 6.700 chuyến. Vietjet Air khai thác hơn 5.700 chuyến, giảm 31%, tương đương trên 2.600 chuyến bay.',\n",
              " 'Tổng số chuyến của các hãng Bamboo Airways, Pacific Airways, VASCO giảm lần lượt giảm 17%, 15% và 43% so với giai đoạn tháng 7. Các hãng bay đã hủy 490 chuyến, tăng 325 chuyến so với tháng trước đó. Các hãng gần đây của cũng phải giảm tần suất hoặc dừng khai thác một số tuyến ít khách như đi/ đến khu vực Tây Nguyên.',\n",
              " 'Nhu cầu đi lại giảm cũng kéo mặt bằng giá vé nội địa tụt mạnh. Ghi nhận sáng 26/8, một cặp vé khứ hồi chặng Hà Nội – TP HCM bay cuối tháng 9 có giá từ 1,2 triệu đồng, giảm 2 – 3 lần so với đầu tháng 7. Các chặng bay từ Hà Nội đến nhũng địa điểm du lịch như Nha Trang, Phú Quốc... cũng có giá vé khứ hồi tương đương. Trong khi đó, thời điểm nhu cầu du lịch của người dân tăng cao hồi cuối tháng 6, đầu tháng 7, các hành trình này có giá từ 3 đến 5 triệu đồng.',\n",
              " 'Tổng giám đốc Vietnam Airlines dự báo, tổng thị trường nội địa 5 tháng cuối năm có thể chỉ còn 70% so với cùng kỳ năm ngoái. Cả năm 2020, tổng thị trường thấp hơn 30-40%, giá vé cũng giảm 30%.',\n",
              " 'Hiện tại, các hãng bay phải đua bán vé Tết sớm so với mọi năm để kéo nguồn thu ngay từ giữa tháng 8. Đến tuần này, các hãng lại liên tục tung ưu đãi vé Tết giá rẻ như Vietjet chỉ từ 2.021 đồng một chặng (chưa gồm thuế, phí), tương tự Bamboo Airways cũng tung vé từ 99.000 đồng. Liên danh Liên danh Vietnam Airlines - Pacific Airlines mở bán vé từ 509.000 một chiều (đã gồm thuế, phí).',\n",
              " 'Hiệp hội Hàng không Việt Nam mới đây đã kiến nghị Thủ tướng có giải pháp mạnh để hỗ trợ ngành khi các hãng đều rơi vào cảnh suy kiệt dòng tiền nghiêm trọng.',\n",
              " 'Một trong số các đề xuất là cho các hãng bay được vay gói tín dụng trị giá 25.000 – 27.000 tỷ đồng có hỗ trợ lãi suất trong 3-4 năm, miễn giảm phí dịch vụ hàng không đến hết năm sau. Đồng thời, đơn vị này cũng kiến nghị cho phép mở lại đường bay quốc tế với những nước đã kiểm soát được dịch dịch Covid-19...',\n",
              " 'Hiệp hội Vận tải hàng không quốc tế dự báo ngành hàng không phải đến năm 2024 mới quay được về mức như năm 2019, trong đó các hãng bay Việt có thể thiệt hại 4 tỷ USD, khoảng hơn 90.000 tỷ năm nay.',\n",
              " 'Anh Tú']"
            ]
          },
          "metadata": {
            "tags": []
          },
          "execution_count": 41
        }
      ]
    },
    {
      "cell_type": "markdown",
      "metadata": {
        "id": "yub5dKYp_yB9",
        "colab_type": "text"
      },
      "source": [
        "Gather article urls"
      ]
    },
    {
      "cell_type": "code",
      "metadata": {
        "id": "J11-BjVYo1yE",
        "colab_type": "code",
        "colab": {}
      },
      "source": [
        "topic_urls = [\n",
        "              \"https://vnexpress.net/kinh-doanh\", # business\n",
        "              \"https://vnexpress.net/giai-tri\", # entertainment\n",
        "              \"https://vnexpress.net/the-thao\", # sports\n",
        "              \"https://vnexpress.net/phap-luat\", # laws\n",
        "              \"https://vnexpress.net/giao-duc\", # education\n",
        "              \"https://vnexpress.net/suc-khoe\", # health\n",
        "              \"https://vnexpress.net/doi-song\", # life\n",
        "              \"https://vnexpress.net/du-lich\", # travel\n",
        "              \"https://vnexpress.net/khoa-hoc\", # science\n",
        "              \"https://vnexpress.net/so-hoa\", # digital\n",
        "              \"https://vnexpress.net/oto-xe-may\", # vehicles\n",
        "              \"https://vnexpress.net/hai\"] # comedy\n",
        "pages = [\"\"] + [\"/p\"+ str(i) for i in range(2, 20)]"
      ],
      "execution_count": 132,
      "outputs": []
    },
    {
      "cell_type": "code",
      "metadata": {
        "id": "KPuJ-DFbqh_9",
        "colab_type": "code",
        "colab": {}
      },
      "source": [
        "def get_articles_links(topic_link:str):\n",
        "  markup = requests.get(topic_link).text\n",
        "  soup = BeautifulSoup(markup=markup, features=\"lxml\")\n",
        "  \n",
        "  # article_tags = soup.find_all(\"article\", class_=\"item-news item-news-common \")\n",
        "  # if len(article_tags) == 0:\n",
        "  #   article_tags = soup.find_all(\"article\", class_=\"item-news item-news-common\")\n",
        "  # if len(article_tags) == 0:\n",
        "  #   return []\n",
        "  # urls = [article_tag.find(\"a\", href=True)[\"href\"] for article_tag in article_tags]\n",
        "  urls = []\n",
        "  for tag in soup.find_all(\"article\"):\n",
        "    a_tag = tag.find(\"a\", href=True)\n",
        "    if a_tag is not None:\n",
        "      urls.append(a_tag[\"href\"])\n",
        "  # urls = vne_soup.find(\"article\", class_=\"item-news item news-common\").find_all(a, href=True)\n",
        "  return urls"
      ],
      "execution_count": 128,
      "outputs": []
    },
    {
      "cell_type": "code",
      "metadata": {
        "id": "auE6QdpdDaOa",
        "colab_type": "code",
        "colab": {
          "base_uri": "https://localhost:8080/",
          "height": 225
        },
        "outputId": "4b7ba3a3-5ac6-4e75-c8ac-0c1daf7e3020"
      },
      "source": [
        "for topic_url in topic_urls:\n",
        "  print(topic_url)\n",
        "  get_articles_links(topic_url)"
      ],
      "execution_count": 133,
      "outputs": [
        {
          "output_type": "stream",
          "text": [
            "https://vnexpress.net/kinh-doanh\n",
            "https://vnexpress.net/giai-tri\n",
            "https://vnexpress.net/the-thao\n",
            "https://vnexpress.net/phap-luat\n",
            "https://vnexpress.net/giao-duc\n",
            "https://vnexpress.net/suc-khoe\n",
            "https://vnexpress.net/doi-song\n",
            "https://vnexpress.net/du-lich\n",
            "https://vnexpress.net/khoa-hoc\n",
            "https://vnexpress.net/so-hoa\n",
            "https://vnexpress.net/oto-xe-may\n",
            "https://vnexpress.net/hai\n"
          ],
          "name": "stdout"
        }
      ]
    },
    {
      "cell_type": "code",
      "metadata": {
        "id": "EwfLRhWLthXh",
        "colab_type": "code",
        "colab": {
          "base_uri": "https://localhost:8080/",
          "height": 1000
        },
        "outputId": "cd4e4274-75c0-4c8a-b5bf-fecdfbb9dabd"
      },
      "source": [
        "articles = {}\n",
        "for i, topic_url in enumerate(topic_urls[1:]):\n",
        "  articles[i] = []\n",
        "  for page in pages:\n",
        "    url = topic_url + page\n",
        "    print(url)\n",
        "    articles[i] = articles[i] + get_articles_links(url)\n"
      ],
      "execution_count": 134,
      "outputs": [
        {
          "output_type": "stream",
          "text": [
            "https://vnexpress.net/giai-tri\n",
            "https://vnexpress.net/giai-tri/p2\n",
            "https://vnexpress.net/giai-tri/p3\n",
            "https://vnexpress.net/giai-tri/p4\n",
            "https://vnexpress.net/giai-tri/p5\n",
            "https://vnexpress.net/giai-tri/p6\n",
            "https://vnexpress.net/giai-tri/p7\n",
            "https://vnexpress.net/giai-tri/p8\n",
            "https://vnexpress.net/giai-tri/p9\n",
            "https://vnexpress.net/giai-tri/p10\n",
            "https://vnexpress.net/giai-tri/p11\n",
            "https://vnexpress.net/giai-tri/p12\n",
            "https://vnexpress.net/giai-tri/p13\n",
            "https://vnexpress.net/giai-tri/p14\n",
            "https://vnexpress.net/giai-tri/p15\n",
            "https://vnexpress.net/giai-tri/p16\n",
            "https://vnexpress.net/giai-tri/p17\n",
            "https://vnexpress.net/giai-tri/p18\n",
            "https://vnexpress.net/giai-tri/p19\n",
            "https://vnexpress.net/the-thao\n",
            "https://vnexpress.net/the-thao/p2\n",
            "https://vnexpress.net/the-thao/p3\n",
            "https://vnexpress.net/the-thao/p4\n",
            "https://vnexpress.net/the-thao/p5\n",
            "https://vnexpress.net/the-thao/p6\n",
            "https://vnexpress.net/the-thao/p7\n",
            "https://vnexpress.net/the-thao/p8\n",
            "https://vnexpress.net/the-thao/p9\n",
            "https://vnexpress.net/the-thao/p10\n",
            "https://vnexpress.net/the-thao/p11\n",
            "https://vnexpress.net/the-thao/p12\n",
            "https://vnexpress.net/the-thao/p13\n",
            "https://vnexpress.net/the-thao/p14\n",
            "https://vnexpress.net/the-thao/p15\n",
            "https://vnexpress.net/the-thao/p16\n",
            "https://vnexpress.net/the-thao/p17\n",
            "https://vnexpress.net/the-thao/p18\n",
            "https://vnexpress.net/the-thao/p19\n",
            "https://vnexpress.net/phap-luat\n",
            "https://vnexpress.net/phap-luat/p2\n",
            "https://vnexpress.net/phap-luat/p3\n",
            "https://vnexpress.net/phap-luat/p4\n",
            "https://vnexpress.net/phap-luat/p5\n",
            "https://vnexpress.net/phap-luat/p6\n",
            "https://vnexpress.net/phap-luat/p7\n",
            "https://vnexpress.net/phap-luat/p8\n",
            "https://vnexpress.net/phap-luat/p9\n",
            "https://vnexpress.net/phap-luat/p10\n",
            "https://vnexpress.net/phap-luat/p11\n",
            "https://vnexpress.net/phap-luat/p12\n",
            "https://vnexpress.net/phap-luat/p13\n",
            "https://vnexpress.net/phap-luat/p14\n",
            "https://vnexpress.net/phap-luat/p15\n",
            "https://vnexpress.net/phap-luat/p16\n",
            "https://vnexpress.net/phap-luat/p17\n",
            "https://vnexpress.net/phap-luat/p18\n",
            "https://vnexpress.net/phap-luat/p19\n",
            "https://vnexpress.net/giao-duc\n",
            "https://vnexpress.net/giao-duc/p2\n",
            "https://vnexpress.net/giao-duc/p3\n",
            "https://vnexpress.net/giao-duc/p4\n",
            "https://vnexpress.net/giao-duc/p5\n",
            "https://vnexpress.net/giao-duc/p6\n",
            "https://vnexpress.net/giao-duc/p7\n",
            "https://vnexpress.net/giao-duc/p8\n",
            "https://vnexpress.net/giao-duc/p9\n",
            "https://vnexpress.net/giao-duc/p10\n",
            "https://vnexpress.net/giao-duc/p11\n",
            "https://vnexpress.net/giao-duc/p12\n",
            "https://vnexpress.net/giao-duc/p13\n",
            "https://vnexpress.net/giao-duc/p14\n",
            "https://vnexpress.net/giao-duc/p15\n",
            "https://vnexpress.net/giao-duc/p16\n",
            "https://vnexpress.net/giao-duc/p17\n",
            "https://vnexpress.net/giao-duc/p18\n",
            "https://vnexpress.net/giao-duc/p19\n",
            "https://vnexpress.net/suc-khoe\n",
            "https://vnexpress.net/suc-khoe/p2\n",
            "https://vnexpress.net/suc-khoe/p3\n",
            "https://vnexpress.net/suc-khoe/p4\n",
            "https://vnexpress.net/suc-khoe/p5\n",
            "https://vnexpress.net/suc-khoe/p6\n",
            "https://vnexpress.net/suc-khoe/p7\n",
            "https://vnexpress.net/suc-khoe/p8\n",
            "https://vnexpress.net/suc-khoe/p9\n",
            "https://vnexpress.net/suc-khoe/p10\n",
            "https://vnexpress.net/suc-khoe/p11\n",
            "https://vnexpress.net/suc-khoe/p12\n",
            "https://vnexpress.net/suc-khoe/p13\n",
            "https://vnexpress.net/suc-khoe/p14\n",
            "https://vnexpress.net/suc-khoe/p15\n",
            "https://vnexpress.net/suc-khoe/p16\n",
            "https://vnexpress.net/suc-khoe/p17\n",
            "https://vnexpress.net/suc-khoe/p18\n",
            "https://vnexpress.net/suc-khoe/p19\n",
            "https://vnexpress.net/doi-song\n",
            "https://vnexpress.net/doi-song/p2\n",
            "https://vnexpress.net/doi-song/p3\n",
            "https://vnexpress.net/doi-song/p4\n",
            "https://vnexpress.net/doi-song/p5\n",
            "https://vnexpress.net/doi-song/p6\n",
            "https://vnexpress.net/doi-song/p7\n",
            "https://vnexpress.net/doi-song/p8\n",
            "https://vnexpress.net/doi-song/p9\n",
            "https://vnexpress.net/doi-song/p10\n",
            "https://vnexpress.net/doi-song/p11\n",
            "https://vnexpress.net/doi-song/p12\n",
            "https://vnexpress.net/doi-song/p13\n",
            "https://vnexpress.net/doi-song/p14\n",
            "https://vnexpress.net/doi-song/p15\n",
            "https://vnexpress.net/doi-song/p16\n",
            "https://vnexpress.net/doi-song/p17\n",
            "https://vnexpress.net/doi-song/p18\n",
            "https://vnexpress.net/doi-song/p19\n",
            "https://vnexpress.net/du-lich\n",
            "https://vnexpress.net/du-lich/p2\n",
            "https://vnexpress.net/du-lich/p3\n",
            "https://vnexpress.net/du-lich/p4\n",
            "https://vnexpress.net/du-lich/p5\n",
            "https://vnexpress.net/du-lich/p6\n",
            "https://vnexpress.net/du-lich/p7\n",
            "https://vnexpress.net/du-lich/p8\n",
            "https://vnexpress.net/du-lich/p9\n",
            "https://vnexpress.net/du-lich/p10\n",
            "https://vnexpress.net/du-lich/p11\n",
            "https://vnexpress.net/du-lich/p12\n",
            "https://vnexpress.net/du-lich/p13\n",
            "https://vnexpress.net/du-lich/p14\n",
            "https://vnexpress.net/du-lich/p15\n",
            "https://vnexpress.net/du-lich/p16\n",
            "https://vnexpress.net/du-lich/p17\n",
            "https://vnexpress.net/du-lich/p18\n",
            "https://vnexpress.net/du-lich/p19\n",
            "https://vnexpress.net/khoa-hoc\n",
            "https://vnexpress.net/khoa-hoc/p2\n",
            "https://vnexpress.net/khoa-hoc/p3\n",
            "https://vnexpress.net/khoa-hoc/p4\n",
            "https://vnexpress.net/khoa-hoc/p5\n",
            "https://vnexpress.net/khoa-hoc/p6\n",
            "https://vnexpress.net/khoa-hoc/p7\n",
            "https://vnexpress.net/khoa-hoc/p8\n",
            "https://vnexpress.net/khoa-hoc/p9\n",
            "https://vnexpress.net/khoa-hoc/p10\n",
            "https://vnexpress.net/khoa-hoc/p11\n",
            "https://vnexpress.net/khoa-hoc/p12\n",
            "https://vnexpress.net/khoa-hoc/p13\n",
            "https://vnexpress.net/khoa-hoc/p14\n",
            "https://vnexpress.net/khoa-hoc/p15\n",
            "https://vnexpress.net/khoa-hoc/p16\n",
            "https://vnexpress.net/khoa-hoc/p17\n",
            "https://vnexpress.net/khoa-hoc/p18\n",
            "https://vnexpress.net/khoa-hoc/p19\n",
            "https://vnexpress.net/so-hoa\n",
            "https://vnexpress.net/so-hoa/p2\n",
            "https://vnexpress.net/so-hoa/p3\n",
            "https://vnexpress.net/so-hoa/p4\n",
            "https://vnexpress.net/so-hoa/p5\n",
            "https://vnexpress.net/so-hoa/p6\n",
            "https://vnexpress.net/so-hoa/p7\n",
            "https://vnexpress.net/so-hoa/p8\n",
            "https://vnexpress.net/so-hoa/p9\n",
            "https://vnexpress.net/so-hoa/p10\n",
            "https://vnexpress.net/so-hoa/p11\n",
            "https://vnexpress.net/so-hoa/p12\n",
            "https://vnexpress.net/so-hoa/p13\n",
            "https://vnexpress.net/so-hoa/p14\n",
            "https://vnexpress.net/so-hoa/p15\n",
            "https://vnexpress.net/so-hoa/p16\n",
            "https://vnexpress.net/so-hoa/p17\n",
            "https://vnexpress.net/so-hoa/p18\n",
            "https://vnexpress.net/so-hoa/p19\n",
            "https://vnexpress.net/oto-xe-may\n",
            "https://vnexpress.net/oto-xe-may/p2\n",
            "https://vnexpress.net/oto-xe-may/p3\n",
            "https://vnexpress.net/oto-xe-may/p4\n",
            "https://vnexpress.net/oto-xe-may/p5\n",
            "https://vnexpress.net/oto-xe-may/p6\n",
            "https://vnexpress.net/oto-xe-may/p7\n",
            "https://vnexpress.net/oto-xe-may/p8\n",
            "https://vnexpress.net/oto-xe-may/p9\n",
            "https://vnexpress.net/oto-xe-may/p10\n",
            "https://vnexpress.net/oto-xe-may/p11\n",
            "https://vnexpress.net/oto-xe-may/p12\n",
            "https://vnexpress.net/oto-xe-may/p13\n",
            "https://vnexpress.net/oto-xe-may/p14\n",
            "https://vnexpress.net/oto-xe-may/p15\n",
            "https://vnexpress.net/oto-xe-may/p16\n",
            "https://vnexpress.net/oto-xe-may/p17\n",
            "https://vnexpress.net/oto-xe-may/p18\n",
            "https://vnexpress.net/oto-xe-may/p19\n",
            "https://vnexpress.net/hai\n",
            "https://vnexpress.net/hai/p2\n",
            "https://vnexpress.net/hai/p3\n",
            "https://vnexpress.net/hai/p4\n",
            "https://vnexpress.net/hai/p5\n",
            "https://vnexpress.net/hai/p6\n",
            "https://vnexpress.net/hai/p7\n",
            "https://vnexpress.net/hai/p8\n",
            "https://vnexpress.net/hai/p9\n",
            "https://vnexpress.net/hai/p10\n",
            "https://vnexpress.net/hai/p11\n",
            "https://vnexpress.net/hai/p12\n",
            "https://vnexpress.net/hai/p13\n",
            "https://vnexpress.net/hai/p14\n",
            "https://vnexpress.net/hai/p15\n",
            "https://vnexpress.net/hai/p16\n",
            "https://vnexpress.net/hai/p17\n",
            "https://vnexpress.net/hai/p18\n",
            "https://vnexpress.net/hai/p19\n"
          ],
          "name": "stdout"
        }
      ]
    },
    {
      "cell_type": "markdown",
      "metadata": {
        "id": "zvfmm2vt3bsW",
        "colab_type": "text"
      },
      "source": [
        "Save the article links"
      ]
    },
    {
      "cell_type": "code",
      "metadata": {
        "id": "v4dyiPAF1LCG",
        "colab_type": "code",
        "colab": {}
      },
      "source": [
        "with open(\"/content/drive/My Drive/articles.pkl\", \"wb\") as outfile:\n",
        "  pkl.dump(articles, outfile, pkl.HIGHEST_PROTOCOL)"
      ],
      "execution_count": 135,
      "outputs": []
    },
    {
      "cell_type": "markdown",
      "metadata": {
        "id": "CRqsMEXe8UEJ",
        "colab_type": "text"
      },
      "source": [
        "Load the article links"
      ]
    },
    {
      "cell_type": "code",
      "metadata": {
        "id": "UUDagj06BTsL",
        "colab_type": "code",
        "colab": {}
      },
      "source": [
        "with open(\"/content/drive/My Drive/articles.pkl\", \"rb\") as infile:\n",
        "  load_articles = pkl.load(infile)"
      ],
      "execution_count": 136,
      "outputs": []
    },
    {
      "cell_type": "code",
      "metadata": {
        "id": "nS-dUO8sQ_ou",
        "colab_type": "code",
        "colab": {
          "base_uri": "https://localhost:8080/",
          "height": 208
        },
        "outputId": "0d861d48-a6c2-4fe1-f6f6-0f59567b7766"
      },
      "source": [
        "for key in articles.keys():\n",
        "  print(len(articles[key]))"
      ],
      "execution_count": 141,
      "outputs": [
        {
          "output_type": "stream",
          "text": [
            "584\n",
            "580\n",
            "152\n",
            "143\n",
            "587\n",
            "575\n",
            "575\n",
            "143\n",
            "583\n",
            "156\n",
            "143\n"
          ],
          "name": "stdout"
        }
      ]
    },
    {
      "cell_type": "code",
      "metadata": {
        "id": "AfyHgu8kBx4R",
        "colab_type": "code",
        "colab": {
          "base_uri": "https://localhost:8080/",
          "height": 35
        },
        "outputId": "8df5543e-d2ce-4b94-e660-e0612bf7ddbc"
      },
      "source": [
        "articles.keys()"
      ],
      "execution_count": 87,
      "outputs": [
        {
          "output_type": "execute_result",
          "data": {
            "text/plain": [
              "dict_keys([0, 1])"
            ]
          },
          "metadata": {
            "tags": []
          },
          "execution_count": 87
        }
      ]
    },
    {
      "cell_type": "code",
      "metadata": {
        "id": "BiCMU45BzMfk",
        "colab_type": "code",
        "colab": {}
      },
      "source": [
        "vne = \"https://vnexpress.net/\"\n",
        "vne_page = requests.get(vne).text\n",
        "vne_soup = BeautifulSoup(markup=vne_page, features=\"lxml\")\n",
        "vne_soup_menu = vne_soup.find_all(\"section\", class_=\"wrap-all-menu\")"
      ],
      "execution_count": null,
      "outputs": []
    },
    {
      "cell_type": "code",
      "metadata": {
        "id": "QWrQDFkA85F2",
        "colab_type": "code",
        "colab": {}
      },
      "source": [
        "from google.colab import drive\n",
        "drive.mount('/content/drive')"
      ],
      "execution_count": null,
      "outputs": []
    },
    {
      "cell_type": "code",
      "metadata": {
        "id": "HUX8H0eYBlPw",
        "colab_type": "code",
        "colab": {
          "base_uri": "https://localhost:8080/",
          "height": 35
        },
        "outputId": "ea0cc13d-63c5-4ea7-b995-5028796e0f95"
      },
      "source": [
        "vne_soup_menu"
      ],
      "execution_count": null,
      "outputs": [
        {
          "output_type": "execute_result",
          "data": {
            "text/plain": [
              "[<section class=\"wrap-all-menu\"></section>]"
            ]
          },
          "metadata": {
            "tags": []
          },
          "execution_count": 9
        }
      ]
    },
    {
      "cell_type": "code",
      "metadata": {
        "id": "KpS2HRVPBsea",
        "colab_type": "code",
        "colab": {}
      },
      "source": [
        ""
      ],
      "execution_count": null,
      "outputs": []
    }
  ]
}