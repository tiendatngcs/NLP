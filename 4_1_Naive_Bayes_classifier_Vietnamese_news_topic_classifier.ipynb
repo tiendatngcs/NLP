{
  "nbformat": 4,
  "nbformat_minor": 0,
  "metadata": {
    "colab": {
      "name": "4_1_Naive_Bayes_classifier_Vietnamese_news_topic_classifier.ipynb",
      "provenance": [],
      "collapsed_sections": [],
      "mount_file_id": "1XpnIJ2qPKCCd6Qz075rjk0ShEpiRpAev",
      "authorship_tag": "ABX9TyOjhYE0hYl4aOYJMHgcOtq5",
      "include_colab_link": true
    },
    "kernelspec": {
      "name": "python3",
      "display_name": "Python 3"
    }
  },
  "cells": [
    {
      "cell_type": "markdown",
      "metadata": {
        "id": "view-in-github",
        "colab_type": "text"
      },
      "source": [
        "<a href=\"https://colab.research.google.com/github/tiendatngcs/NLP/blob/master/4_1_Naive_Bayes_classifier_Vietnamese_news_topic_classifier.ipynb\" target=\"_parent\"><img src=\"https://colab.research.google.com/assets/colab-badge.svg\" alt=\"Open In Colab\"/></a>"
      ]
    },
    {
      "cell_type": "code",
      "metadata": {
        "id": "zhRQkx-m1qVP",
        "colab_type": "code",
        "colab": {}
      },
      "source": [
        "import numpy as np\n",
        "import pandas as pd\n",
        "import pickle as pkl\n",
        "from sklearn.naive_bayes import GaussianNB"
      ],
      "execution_count": 26,
      "outputs": []
    },
    {
      "cell_type": "code",
      "metadata": {
        "id": "l4VPJMifO4nU",
        "colab_type": "code",
        "colab": {}
      },
      "source": [
        "with open(\"/content/drive/My Drive/filtered_corpus_df.pkl\", \"rb\") as infile:\n",
        "  df = pkl.load(infile)"
      ],
      "execution_count": 27,
      "outputs": []
    },
    {
      "cell_type": "code",
      "metadata": {
        "id": "k_BgEbVePQxa",
        "colab_type": "code",
        "colab": {
          "base_uri": "https://localhost:8080/",
          "height": 423
        },
        "outputId": "cf50e708-8a27-4d73-ba6b-9fcc9d5da44e"
      },
      "source": [
        "df"
      ],
      "execution_count": 28,
      "outputs": [
        {
          "output_type": "execute_result",
          "data": {
            "text/html": [
              "<div>\n",
              "<style scoped>\n",
              "    .dataframe tbody tr th:only-of-type {\n",
              "        vertical-align: middle;\n",
              "    }\n",
              "\n",
              "    .dataframe tbody tr th {\n",
              "        vertical-align: top;\n",
              "    }\n",
              "\n",
              "    .dataframe thead th {\n",
              "        text-align: right;\n",
              "    }\n",
              "</style>\n",
              "<table border=\"1\" class=\"dataframe\">\n",
              "  <thead>\n",
              "    <tr style=\"text-align: right;\">\n",
              "      <th></th>\n",
              "      <th>0</th>\n",
              "      <th>1</th>\n",
              "      <th>2</th>\n",
              "      <th>3</th>\n",
              "      <th>4</th>\n",
              "      <th>5</th>\n",
              "      <th>6</th>\n",
              "    </tr>\n",
              "  </thead>\n",
              "  <tbody>\n",
              "    <tr>\n",
              "      <th>aaron</th>\n",
              "      <td>0</td>\n",
              "      <td>1</td>\n",
              "      <td>5</td>\n",
              "      <td>0</td>\n",
              "      <td>1</td>\n",
              "      <td>0</td>\n",
              "      <td>0</td>\n",
              "    </tr>\n",
              "    <tr>\n",
              "      <th>abbey</th>\n",
              "      <td>0</td>\n",
              "      <td>1</td>\n",
              "      <td>3</td>\n",
              "      <td>0</td>\n",
              "      <td>0</td>\n",
              "      <td>0</td>\n",
              "      <td>0</td>\n",
              "    </tr>\n",
              "    <tr>\n",
              "      <th>abc</th>\n",
              "      <td>1</td>\n",
              "      <td>5</td>\n",
              "      <td>0</td>\n",
              "      <td>1</td>\n",
              "      <td>5</td>\n",
              "      <td>0</td>\n",
              "      <td>0</td>\n",
              "    </tr>\n",
              "    <tr>\n",
              "      <th>abdelrahman</th>\n",
              "      <td>0</td>\n",
              "      <td>5</td>\n",
              "      <td>0</td>\n",
              "      <td>0</td>\n",
              "      <td>0</td>\n",
              "      <td>0</td>\n",
              "      <td>0</td>\n",
              "    </tr>\n",
              "    <tr>\n",
              "      <th>abe</th>\n",
              "      <td>6</td>\n",
              "      <td>0</td>\n",
              "      <td>0</td>\n",
              "      <td>0</td>\n",
              "      <td>0</td>\n",
              "      <td>0</td>\n",
              "      <td>0</td>\n",
              "    </tr>\n",
              "    <tr>\n",
              "      <th>...</th>\n",
              "      <td>...</td>\n",
              "      <td>...</td>\n",
              "      <td>...</td>\n",
              "      <td>...</td>\n",
              "      <td>...</td>\n",
              "      <td>...</td>\n",
              "      <td>...</td>\n",
              "    </tr>\n",
              "    <tr>\n",
              "      <th>ủi</th>\n",
              "      <td>1</td>\n",
              "      <td>2</td>\n",
              "      <td>5</td>\n",
              "      <td>1</td>\n",
              "      <td>14</td>\n",
              "      <td>4</td>\n",
              "      <td>0</td>\n",
              "    </tr>\n",
              "    <tr>\n",
              "      <th>ủng</th>\n",
              "      <td>26</td>\n",
              "      <td>50</td>\n",
              "      <td>25</td>\n",
              "      <td>10</td>\n",
              "      <td>39</td>\n",
              "      <td>14</td>\n",
              "      <td>29</td>\n",
              "    </tr>\n",
              "    <tr>\n",
              "      <th>ủy</th>\n",
              "      <td>14</td>\n",
              "      <td>8</td>\n",
              "      <td>1</td>\n",
              "      <td>10</td>\n",
              "      <td>7</td>\n",
              "      <td>2</td>\n",
              "      <td>19</td>\n",
              "    </tr>\n",
              "    <tr>\n",
              "      <th>ức</th>\n",
              "      <td>1</td>\n",
              "      <td>20</td>\n",
              "      <td>4</td>\n",
              "      <td>8</td>\n",
              "      <td>16</td>\n",
              "      <td>3</td>\n",
              "      <td>0</td>\n",
              "    </tr>\n",
              "    <tr>\n",
              "      <th>ứng</th>\n",
              "      <td>306</td>\n",
              "      <td>47</td>\n",
              "      <td>71</td>\n",
              "      <td>194</td>\n",
              "      <td>100</td>\n",
              "      <td>89</td>\n",
              "      <td>760</td>\n",
              "    </tr>\n",
              "  </tbody>\n",
              "</table>\n",
              "<p>6018 rows × 7 columns</p>\n",
              "</div>"
            ],
            "text/plain": [
              "               0   1   2    3    4   5    6\n",
              "aaron          0   1   5    0    1   0    0\n",
              "abbey          0   1   3    0    0   0    0\n",
              "abc            1   5   0    1    5   0    0\n",
              "abdelrahman    0   5   0    0    0   0    0\n",
              "abe            6   0   0    0    0   0    0\n",
              "...          ...  ..  ..  ...  ...  ..  ...\n",
              "ủi             1   2   5    1   14   4    0\n",
              "ủng           26  50  25   10   39  14   29\n",
              "ủy            14   8   1   10    7   2   19\n",
              "ức             1  20   4    8   16   3    0\n",
              "ứng          306  47  71  194  100  89  760\n",
              "\n",
              "[6018 rows x 7 columns]"
            ]
          },
          "metadata": {
            "tags": []
          },
          "execution_count": 28
        }
      ]
    },
    {
      "cell_type": "code",
      "metadata": {
        "id": "eXeyt1XQk8nd",
        "colab_type": "code",
        "colab": {}
      },
      "source": [
        "topics = ['business', 'entertainment', 'sports', 'health', 'life', 'travel', 'digital']"
      ],
      "execution_count": null,
      "outputs": []
    },
    {
      "cell_type": "code",
      "metadata": {
        "id": "M0s8lKcG2JhY",
        "colab_type": "code",
        "colab": {}
      },
      "source": [
        "with open(\"/content/drive/My Drive/dtm.pkl\", \"rb\") as infile:\n",
        "  dtm = pkl.load(infile)"
      ],
      "execution_count": 25,
      "outputs": []
    },
    {
      "cell_type": "code",
      "metadata": {
        "id": "TPhh5n_iHRIW",
        "colab_type": "code",
        "colab": {}
      },
      "source": [
        "X = np.array(df).transpose()\n",
        "Y = list(range(7))"
      ],
      "execution_count": 29,
      "outputs": []
    },
    {
      "cell_type": "code",
      "metadata": {
        "id": "EO1sPH-LG8vK",
        "colab_type": "code",
        "colab": {}
      },
      "source": [
        "GNB = GaussianNB()"
      ],
      "execution_count": 30,
      "outputs": []
    },
    {
      "cell_type": "code",
      "metadata": {
        "id": "viiUCi4BIO07",
        "colab_type": "code",
        "colab": {
          "base_uri": "https://localhost:8080/",
          "height": 36
        },
        "outputId": "2377b041-afb5-4ab8-87d8-47a45ecd4067"
      },
      "source": [
        "GNB.fit(X=X, y=Y)"
      ],
      "execution_count": 31,
      "outputs": [
        {
          "output_type": "execute_result",
          "data": {
            "text/plain": [
              "GaussianNB(priors=None, var_smoothing=1e-09)"
            ]
          },
          "metadata": {
            "tags": []
          },
          "execution_count": 31
        }
      ]
    },
    {
      "cell_type": "code",
      "metadata": {
        "id": "7L2xofJZHjBf",
        "colab_type": "code",
        "colab": {}
      },
      "source": [
        "test_text = \"Thẻ HDBank MasterCard với những ưu đãi nổi trội mang đến những lợi ích 'siêu hấp dẫn' không chỉ về phí mà còn nhận quà trong chương trình 'Khách hàng vay - tặng ngay máy lọc không khí' khi thực hiện giao dịch thanh toán mua hàng. ‘Khách hàng vay - tặng ngay máy lọc không khí’ cùng thẻ HDBank MasterCard. Từ nay đến ngày 31.10.2020, 180 khách hàng đầu tiên khi mở mới thẻ tín dụng quốc tế HDBank MasterCard và có chi tiêu phát sinh từ 20.000.000 đồng trong vòng 30 ngày kể từ ngày phát hành thẻ sẽ được tặng ngay máy lọc không khí. Thẻ tín dụng quốc tế HDBank MasterCard là dòng thẻ mà HDBank hướng đến trong việc đáp ứng đầy đủ các nhu cầu của khách hàng về du lịch, ăn uống, mua sắm và chi tiêu online. Với ưu đãi lên đến 14 triệu đồng/năm và miễn lãi lên đến 45 ngày sẽ mang tới cho chủ thẻ nhiều trải nghiệm hữu ích và thiết thực hơn. Khách hàng có thể thoải mái sử dụng thẻ tín dụng quốc tế HDBank MasterCard để giải quyết những vấn đề tài chính cá nhân mà vẫn có thể giảm bớt gánh nặng trong thanh toán. Bên cạnh đó, khi khách hàng sở hữu tấm thẻ này sẽ nhận được nhiều lợi ích từ chuỗi ưu đãi “khủng” khi kết hợp mua hàng và thanh toán trên các trang mua sắm trực tuyến, đối tác của HDBank như Tiki, Lazada, Shopee, Samsung... Với những đặc tính nổi trội, Thẻ tín dụng quốc tế HDBank MasterCard là “bí kíp” tiêu dùng hữu ích cho người trẻ trong cuộc sống hiện đại. Đặc biệt, vào thời điểm dịch Covid-19 bùng phát, chủ thẻ hoàn toàn có thể thực hiện giao dịch online mà không cần tập trung nơi đông người để mua sắm, thanh toán trực tiếp. Dùng thẻ để thanh toán chính là một phương thức thanh toán hiện đại và thẻ tín dụng quốc tế HDBank MasterCard là một lựa chọn phù hợp cho khách hàng bởi tính an toàn, tiện lợi và độ bảo mật cao với chuẩn chip EMV và công nghệ 3D Secure cho các giao dịch online. Đặc biệt quý khách hàng không còn phải lo lắng chuyển đổi ngoại tệ khi sử dụng thẻ để thanh toán khi đi công tác hoặc du lịch nước ngoài.\""
      ],
      "execution_count": 39,
      "outputs": []
    },
    {
      "cell_type": "code",
      "metadata": {
        "id": "hgdcJAxeHj8X",
        "colab_type": "code",
        "colab": {}
      },
      "source": [
        "test_x = dtm.transform([test_text]).toarray()"
      ],
      "execution_count": 40,
      "outputs": []
    },
    {
      "cell_type": "code",
      "metadata": {
        "id": "iec4Msg5JBLB",
        "colab_type": "code",
        "colab": {
          "base_uri": "https://localhost:8080/",
          "height": 36
        },
        "outputId": "ae36c725-8ae4-4cf5-9c87-b094fdb3a200"
      },
      "source": [
        "GNB.predict(test_x)"
      ],
      "execution_count": 41,
      "outputs": [
        {
          "output_type": "execute_result",
          "data": {
            "text/plain": [
              "array([1])"
            ]
          },
          "metadata": {
            "tags": []
          },
          "execution_count": 41
        }
      ]
    },
    {
      "cell_type": "code",
      "metadata": {
        "id": "gX_EVKENJb1l",
        "colab_type": "code",
        "colab": {}
      },
      "source": [
        ""
      ],
      "execution_count": null,
      "outputs": []
    }
  ]
}