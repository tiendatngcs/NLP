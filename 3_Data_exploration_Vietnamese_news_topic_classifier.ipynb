{
  "nbformat": 4,
  "nbformat_minor": 0,
  "metadata": {
    "colab": {
      "name": "3_Data_exploration_Vietnamese_news_topic_classifier.ipynb",
      "provenance": [],
      "mount_file_id": "1e6x0ylL3VJfoA3tvShVKmP0UyfMN5a44",
      "authorship_tag": "ABX9TyOSk+VZNxTT3hgY8Cpc3Z7f",
      "include_colab_link": true
    },
    "kernelspec": {
      "name": "python3",
      "display_name": "Python 3"
    }
  },
  "cells": [
    {
      "cell_type": "markdown",
      "metadata": {
        "id": "view-in-github",
        "colab_type": "text"
      },
      "source": [
        "<a href=\"https://colab.research.google.com/github/tiendatngcs/NLP/blob/master/3_Data_exploration_Vietnamese_news_topic_classifier.ipynb\" target=\"_parent\"><img src=\"https://colab.research.google.com/assets/colab-badge.svg\" alt=\"Open In Colab\"/></a>"
      ]
    },
    {
      "cell_type": "code",
      "metadata": {
        "id": "CHkwvU0ANiiy",
        "colab_type": "code",
        "colab": {}
      },
      "source": [
        "import numpy as np\n",
        "import pandas as pd\n",
        "import pickle as pkl"
      ],
      "execution_count": 1,
      "outputs": []
    },
    {
      "cell_type": "code",
      "metadata": {
        "id": "l4VPJMifO4nU",
        "colab_type": "code",
        "colab": {}
      },
      "source": [
        "with open(\"/content/drive/My Drive/filtered_corpus_df.pkl\", \"rb\") as infile:\n",
        "  df = pkl.load(infile)"
      ],
      "execution_count": 2,
      "outputs": []
    },
    {
      "cell_type": "code",
      "metadata": {
        "id": "k_BgEbVePQxa",
        "colab_type": "code",
        "colab": {
          "base_uri": "https://localhost:8080/",
          "height": 423
        },
        "outputId": "67451e63-30df-4cf7-92fc-5664c8b83cd6"
      },
      "source": [
        "df"
      ],
      "execution_count": 3,
      "outputs": [
        {
          "output_type": "execute_result",
          "data": {
            "text/html": [
              "<div>\n",
              "<style scoped>\n",
              "    .dataframe tbody tr th:only-of-type {\n",
              "        vertical-align: middle;\n",
              "    }\n",
              "\n",
              "    .dataframe tbody tr th {\n",
              "        vertical-align: top;\n",
              "    }\n",
              "\n",
              "    .dataframe thead th {\n",
              "        text-align: right;\n",
              "    }\n",
              "</style>\n",
              "<table border=\"1\" class=\"dataframe\">\n",
              "  <thead>\n",
              "    <tr style=\"text-align: right;\">\n",
              "      <th></th>\n",
              "      <th>0</th>\n",
              "      <th>1</th>\n",
              "      <th>2</th>\n",
              "      <th>3</th>\n",
              "      <th>4</th>\n",
              "      <th>5</th>\n",
              "      <th>6</th>\n",
              "    </tr>\n",
              "  </thead>\n",
              "  <tbody>\n",
              "    <tr>\n",
              "      <th>aaron</th>\n",
              "      <td>0</td>\n",
              "      <td>1</td>\n",
              "      <td>5</td>\n",
              "      <td>0</td>\n",
              "      <td>1</td>\n",
              "      <td>0</td>\n",
              "      <td>0</td>\n",
              "    </tr>\n",
              "    <tr>\n",
              "      <th>abbey</th>\n",
              "      <td>0</td>\n",
              "      <td>1</td>\n",
              "      <td>3</td>\n",
              "      <td>0</td>\n",
              "      <td>0</td>\n",
              "      <td>0</td>\n",
              "      <td>0</td>\n",
              "    </tr>\n",
              "    <tr>\n",
              "      <th>abc</th>\n",
              "      <td>1</td>\n",
              "      <td>5</td>\n",
              "      <td>0</td>\n",
              "      <td>1</td>\n",
              "      <td>5</td>\n",
              "      <td>0</td>\n",
              "      <td>0</td>\n",
              "    </tr>\n",
              "    <tr>\n",
              "      <th>abdelrahman</th>\n",
              "      <td>0</td>\n",
              "      <td>5</td>\n",
              "      <td>0</td>\n",
              "      <td>0</td>\n",
              "      <td>0</td>\n",
              "      <td>0</td>\n",
              "      <td>0</td>\n",
              "    </tr>\n",
              "    <tr>\n",
              "      <th>abe</th>\n",
              "      <td>6</td>\n",
              "      <td>0</td>\n",
              "      <td>0</td>\n",
              "      <td>0</td>\n",
              "      <td>0</td>\n",
              "      <td>0</td>\n",
              "      <td>0</td>\n",
              "    </tr>\n",
              "    <tr>\n",
              "      <th>...</th>\n",
              "      <td>...</td>\n",
              "      <td>...</td>\n",
              "      <td>...</td>\n",
              "      <td>...</td>\n",
              "      <td>...</td>\n",
              "      <td>...</td>\n",
              "      <td>...</td>\n",
              "    </tr>\n",
              "    <tr>\n",
              "      <th>ủi</th>\n",
              "      <td>1</td>\n",
              "      <td>2</td>\n",
              "      <td>5</td>\n",
              "      <td>1</td>\n",
              "      <td>14</td>\n",
              "      <td>4</td>\n",
              "      <td>0</td>\n",
              "    </tr>\n",
              "    <tr>\n",
              "      <th>ủng</th>\n",
              "      <td>26</td>\n",
              "      <td>50</td>\n",
              "      <td>25</td>\n",
              "      <td>10</td>\n",
              "      <td>39</td>\n",
              "      <td>14</td>\n",
              "      <td>29</td>\n",
              "    </tr>\n",
              "    <tr>\n",
              "      <th>ủy</th>\n",
              "      <td>14</td>\n",
              "      <td>8</td>\n",
              "      <td>1</td>\n",
              "      <td>10</td>\n",
              "      <td>7</td>\n",
              "      <td>2</td>\n",
              "      <td>19</td>\n",
              "    </tr>\n",
              "    <tr>\n",
              "      <th>ức</th>\n",
              "      <td>1</td>\n",
              "      <td>20</td>\n",
              "      <td>4</td>\n",
              "      <td>8</td>\n",
              "      <td>16</td>\n",
              "      <td>3</td>\n",
              "      <td>0</td>\n",
              "    </tr>\n",
              "    <tr>\n",
              "      <th>ứng</th>\n",
              "      <td>306</td>\n",
              "      <td>47</td>\n",
              "      <td>71</td>\n",
              "      <td>194</td>\n",
              "      <td>100</td>\n",
              "      <td>89</td>\n",
              "      <td>760</td>\n",
              "    </tr>\n",
              "  </tbody>\n",
              "</table>\n",
              "<p>6018 rows × 7 columns</p>\n",
              "</div>"
            ],
            "text/plain": [
              "               0   1   2    3    4   5    6\n",
              "aaron          0   1   5    0    1   0    0\n",
              "abbey          0   1   3    0    0   0    0\n",
              "abc            1   5   0    1    5   0    0\n",
              "abdelrahman    0   5   0    0    0   0    0\n",
              "abe            6   0   0    0    0   0    0\n",
              "...          ...  ..  ..  ...  ...  ..  ...\n",
              "ủi             1   2   5    1   14   4    0\n",
              "ủng           26  50  25   10   39  14   29\n",
              "ủy            14   8   1   10    7   2   19\n",
              "ức             1  20   4    8   16   3    0\n",
              "ứng          306  47  71  194  100  89  760\n",
              "\n",
              "[6018 rows x 7 columns]"
            ]
          },
          "metadata": {
            "tags": []
          },
          "execution_count": 3
        }
      ]
    },
    {
      "cell_type": "code",
      "metadata": {
        "id": "TrcZ7fOhP1Em",
        "colab_type": "code",
        "colab": {
          "base_uri": "https://localhost:8080/",
          "height": 300
        },
        "outputId": "9852f820-796a-4ef0-9317-c74e5d32fd07"
      },
      "source": [
        "df.describe()"
      ],
      "execution_count": 4,
      "outputs": [
        {
          "output_type": "execute_result",
          "data": {
            "text/html": [
              "<div>\n",
              "<style scoped>\n",
              "    .dataframe tbody tr th:only-of-type {\n",
              "        vertical-align: middle;\n",
              "    }\n",
              "\n",
              "    .dataframe tbody tr th {\n",
              "        vertical-align: top;\n",
              "    }\n",
              "\n",
              "    .dataframe thead th {\n",
              "        text-align: right;\n",
              "    }\n",
              "</style>\n",
              "<table border=\"1\" class=\"dataframe\">\n",
              "  <thead>\n",
              "    <tr style=\"text-align: right;\">\n",
              "      <th></th>\n",
              "      <th>0</th>\n",
              "      <th>1</th>\n",
              "      <th>2</th>\n",
              "      <th>3</th>\n",
              "      <th>4</th>\n",
              "      <th>5</th>\n",
              "      <th>6</th>\n",
              "    </tr>\n",
              "  </thead>\n",
              "  <tbody>\n",
              "    <tr>\n",
              "      <th>count</th>\n",
              "      <td>6018.000000</td>\n",
              "      <td>6018.000000</td>\n",
              "      <td>6018.000000</td>\n",
              "      <td>6018.000000</td>\n",
              "      <td>6018.000000</td>\n",
              "      <td>6018.000000</td>\n",
              "      <td>6018.000000</td>\n",
              "    </tr>\n",
              "    <tr>\n",
              "      <th>mean</th>\n",
              "      <td>17.925390</td>\n",
              "      <td>14.014789</td>\n",
              "      <td>14.152875</td>\n",
              "      <td>14.670322</td>\n",
              "      <td>19.352277</td>\n",
              "      <td>13.552011</td>\n",
              "      <td>15.542373</td>\n",
              "    </tr>\n",
              "    <tr>\n",
              "      <th>std</th>\n",
              "      <td>73.392796</td>\n",
              "      <td>45.398781</td>\n",
              "      <td>53.304715</td>\n",
              "      <td>77.301492</td>\n",
              "      <td>61.790377</td>\n",
              "      <td>48.926604</td>\n",
              "      <td>63.070747</td>\n",
              "    </tr>\n",
              "    <tr>\n",
              "      <th>min</th>\n",
              "      <td>0.000000</td>\n",
              "      <td>0.000000</td>\n",
              "      <td>0.000000</td>\n",
              "      <td>0.000000</td>\n",
              "      <td>0.000000</td>\n",
              "      <td>0.000000</td>\n",
              "      <td>0.000000</td>\n",
              "    </tr>\n",
              "    <tr>\n",
              "      <th>25%</th>\n",
              "      <td>0.000000</td>\n",
              "      <td>0.000000</td>\n",
              "      <td>0.000000</td>\n",
              "      <td>0.000000</td>\n",
              "      <td>0.000000</td>\n",
              "      <td>0.000000</td>\n",
              "      <td>0.000000</td>\n",
              "    </tr>\n",
              "    <tr>\n",
              "      <th>50%</th>\n",
              "      <td>0.000000</td>\n",
              "      <td>2.000000</td>\n",
              "      <td>1.000000</td>\n",
              "      <td>0.000000</td>\n",
              "      <td>2.000000</td>\n",
              "      <td>1.000000</td>\n",
              "      <td>0.000000</td>\n",
              "    </tr>\n",
              "    <tr>\n",
              "      <th>75%</th>\n",
              "      <td>6.000000</td>\n",
              "      <td>8.000000</td>\n",
              "      <td>7.000000</td>\n",
              "      <td>4.000000</td>\n",
              "      <td>11.000000</td>\n",
              "      <td>6.000000</td>\n",
              "      <td>5.000000</td>\n",
              "    </tr>\n",
              "    <tr>\n",
              "      <th>max</th>\n",
              "      <td>1438.000000</td>\n",
              "      <td>847.000000</td>\n",
              "      <td>1023.000000</td>\n",
              "      <td>3784.000000</td>\n",
              "      <td>1241.000000</td>\n",
              "      <td>1366.000000</td>\n",
              "      <td>1912.000000</td>\n",
              "    </tr>\n",
              "  </tbody>\n",
              "</table>\n",
              "</div>"
            ],
            "text/plain": [
              "                 0            1  ...            5            6\n",
              "count  6018.000000  6018.000000  ...  6018.000000  6018.000000\n",
              "mean     17.925390    14.014789  ...    13.552011    15.542373\n",
              "std      73.392796    45.398781  ...    48.926604    63.070747\n",
              "min       0.000000     0.000000  ...     0.000000     0.000000\n",
              "25%       0.000000     0.000000  ...     0.000000     0.000000\n",
              "50%       0.000000     2.000000  ...     1.000000     0.000000\n",
              "75%       6.000000     8.000000  ...     6.000000     5.000000\n",
              "max    1438.000000   847.000000  ...  1366.000000  1912.000000\n",
              "\n",
              "[8 rows x 7 columns]"
            ]
          },
          "metadata": {
            "tags": []
          },
          "execution_count": 4
        }
      ]
    },
    {
      "cell_type": "code",
      "metadata": {
        "id": "VCnq3GCXdHAj",
        "colab_type": "code",
        "colab": {}
      },
      "source": [
        "topic_list = ['business', 'entertainment', 'sports', 'health', 'life', 'travel', 'digital']\n",
        "topic_dict = dict(enumerate(topic_list))"
      ],
      "execution_count": 5,
      "outputs": []
    },
    {
      "cell_type": "markdown",
      "metadata": {
        "id": "SgPMXGWAeDdF",
        "colab_type": "text"
      },
      "source": [
        "Below are max recurring words for each topic. Which makes a lot of sense."
      ]
    },
    {
      "cell_type": "code",
      "metadata": {
        "id": "1YJDPV1jP4Ie",
        "colab_type": "code",
        "colab": {
          "base_uri": "https://localhost:8080/",
          "height": 167
        },
        "outputId": "2519de7a-8162-4907-e01e-f71324a48f24"
      },
      "source": [
        "df.idxmax()"
      ],
      "execution_count": 6,
      "outputs": [
        {
          "output_type": "execute_result",
          "data": {
            "text/plain": [
              "0    công\n",
              "1     ảnh\n",
              "2     đội\n",
              "3    bệnh\n",
              "4     thể\n",
              "5      du\n",
              "6    công\n",
              "dtype: object"
            ]
          },
          "metadata": {
            "tags": []
          },
          "execution_count": 6
        }
      ]
    },
    {
      "cell_type": "markdown",
      "metadata": {
        "id": "cXf8p1uhePUP",
        "colab_type": "text"
      },
      "source": [
        "0.    công (means work or technique)\n",
        "1.     ảnh (means pictures, relating to movies, images)\n",
        "2.     đội (means team)\n",
        "3.    bệnh (means disease)\n",
        "4.     thể (means body)\n",
        "5.      du (means to travel)\n",
        "6.    công (means work or technique)"
      ]
    },
    {
      "cell_type": "markdown",
      "metadata": {
        "id": "Q4bpOhwxfRZJ",
        "colab_type": "text"
      },
      "source": [
        "Class 0 and 6 can be a potential problem for our model, but models should not only rely on the most recurring words for their prediction. Let's train some models to see how good this dataset is."
      ]
    },
    {
      "cell_type": "code",
      "metadata": {
        "id": "WNX105Isd42D",
        "colab_type": "code",
        "colab": {}
      },
      "source": [
        ""
      ],
      "execution_count": null,
      "outputs": []
    }
  ]
}